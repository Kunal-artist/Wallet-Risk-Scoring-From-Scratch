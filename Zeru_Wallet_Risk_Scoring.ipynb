{
  "nbformat": 4,
  "nbformat_minor": 0,
  "metadata": {
    "colab": {
      "provenance": []
    },
    "kernelspec": {
      "name": "python3",
      "display_name": "Python 3"
    },
    "language_info": {
      "name": "python"
    }
  },
  "cells": [
    {
      "cell_type": "code",
      "execution_count": 1,
      "metadata": {
        "colab": {
          "base_uri": "https://localhost:8080/"
        },
        "id": "nyx8waoMqthS",
        "outputId": "b02236e2-a2d8-4d17-a6af-3e257883907b"
      },
      "outputs": [
        {
          "output_type": "stream",
          "name": "stdout",
          "text": [
            "Collecting etherscan-python\n",
            "  Downloading etherscan_python-2.1.0-py3-none-any.whl.metadata (314 bytes)\n",
            "Requirement already satisfied: requests in /usr/local/lib/python3.11/dist-packages (from etherscan-python) (2.32.3)\n",
            "Requirement already satisfied: charset-normalizer<4,>=2 in /usr/local/lib/python3.11/dist-packages (from requests->etherscan-python) (3.4.2)\n",
            "Requirement already satisfied: idna<4,>=2.5 in /usr/local/lib/python3.11/dist-packages (from requests->etherscan-python) (3.10)\n",
            "Requirement already satisfied: urllib3<3,>=1.21.1 in /usr/local/lib/python3.11/dist-packages (from requests->etherscan-python) (2.5.0)\n",
            "Requirement already satisfied: certifi>=2017.4.17 in /usr/local/lib/python3.11/dist-packages (from requests->etherscan-python) (2025.7.14)\n",
            "Downloading etherscan_python-2.1.0-py3-none-any.whl (22 kB)\n",
            "Installing collected packages: etherscan-python\n",
            "Successfully installed etherscan-python-2.1.0\n"
          ]
        }
      ],
      "source": [
        "!pip install etherscan-python"
      ]
    },
    {
      "cell_type": "code",
      "source": [
        "import pandas as pd\n",
        "import numpy as np\n",
        "import requests\n",
        "import json\n",
        "import time\n",
        "import re\n",
        "import logging\n",
        "from google.colab import files\n",
        "from sklearn.preprocessing import MinMaxScaler\n",
        "import warnings\n",
        "import matplotlib.pyplot as plt\n",
        "import seaborn as sns\n",
        "\n",
        "\n",
        "# Set up logging\n",
        "logging.basicConfig(level=logging.INFO, format='%(asctime)s - %(levelname)s - %(message)s')\n",
        "logger = logging.getLogger(__name__)\n",
        "\n",
        "# Suppress potential warnings from empty slices\n",
        "warnings.filterwarnings(\"ignore\", category=RuntimeWarning)"
      ],
      "metadata": {
        "id": "SG23qqUVrkSu"
      },
      "execution_count": 24,
      "outputs": []
    },
    {
      "cell_type": "markdown",
      "source": [
        "## Data Collection"
      ],
      "metadata": {
        "id": "JAxpMLefs2MN"
      }
    },
    {
      "cell_type": "code",
      "source": [
        "# --- Etherscan API Setup ---\n",
        "ETHERSCAN_API_KEY = \"Your-Etherscan_API\"  # Replace with your Etherscan API key\n",
        "BASE_URL = \"https://api.etherscan.io/api\"\n",
        "OUTPUT_JSON = \"compound_wallet_transactions_enhanced.json\"\n",
        "OUTPUT_CSV = \"compound_wallet_transactions_enhanced.csv\"\n",
        "VALIDATION_LOG = \"wallet_validation_log_enhanced.txt\""
      ],
      "metadata": {
        "id": "YrmMKkwxrlQN"
      },
      "execution_count": 3,
      "outputs": []
    },
    {
      "cell_type": "code",
      "source": [
        "# --- Expanded Compound Contract Addresses ---\n",
        "# Includes more cToken addresses for better coverage\n",
        "COMPOUND_V2_CONTRACTS = [\n",
        "    # Core Contracts\n",
        "    \"0x3d9819210A31b4961b30EF54bE2aeD79B9c9Cd3B\".lower(),  # Comptroller\n",
        "    \"0x1fe24f25b1cf609b9c4e7e12d802e3640dfa5e43\".lower(),  # Governor Alpha\n",
        "    \"0xc00e94cb662c3520282e6f5717214004a7f26888\".lower(),  # COMP Token\n",
        "    # cTokens\n",
        "    \"0x4ddc2d193948926d02f9b1fe9e1daa0718270ed5\".lower(),  # cETH\n",
        "    \"0x5d3a536e4d6dbd6114cc1ead35777bab948e3643\".lower(),  # cDAI\n",
        "    \"0x6c8c6b02e7b2be14d4fa6022dfd6d75921d90e4e\".lower(),  # cBAT\n",
        "    \"0x39aa39c021dfbae8fac545936693ac917d5e7563\".lower(),  # cUSDC (Note: Different from V3 USDC)\n",
        "    \"0xf650c3d88d12db855b8bf7d11be6c55a4e07dcc9\".lower(),  # cUSDT\n",
        "    \"0xc11b1268c1a384e55c48c2391d8d480264a3a7f4\".lower(),  # cWBTC\n",
        "    \"0x158079ee67fce2f58472a96584a73c7ab9ac95c1\".lower(),  # cREP\n",
        "    \"0xb3319f5d18bc0d84dd1b4825dcde5d5f7266d407\".lower(),  # cZRX\n",
        "    \"0x70e36f6BF80a52b3B46b3aF4e106C856Ff4bC4aE\".lower(),  # old cUSDC, for historical analysis\n",
        "    \"0xface851a4921ce59e912d19329929ce6da658066\".lower(),  # cWBTC2 (new)\n",
        "    \"0xe65cdb6479bac1e22340e4e755fae7e509ecd06c\".lower(),  # cUNI\n",
        "]\n",
        "COMPOUND_V3_CONTRACTS = [\n",
        "    # Main Comet Contracts\n",
        "    \"0xc3d688b66703497daa19211eedff47f25384cdc3\".lower(),  # USDC Comet\n",
        "    \"0xa17581a9e3356d9a858b789d68b4d866e593ae94\".lower(),  # WETH Comet\n",
        "    # Associated contracts\n",
        "    \"0xa0b86991c6218b36c1d19d4a2e9eb0ce3606eb48\".lower(),  # USDC Token Address often interacted with\n",
        "]\n",
        "COMPOUND_CONTRACTS = list(set(COMPOUND_V2_CONTRACTS + COMPOUND_V3_CONTRACTS)) # Use set to avoid duplicates\n"
      ],
      "metadata": {
        "id": "pVJKln5qrsPO"
      },
      "execution_count": 4,
      "outputs": []
    },
    {
      "cell_type": "code",
      "source": [
        "def is_valid_ethereum_address(address):\n",
        "    \"\"\"Validates the format of an Ethereum address.\"\"\"\n",
        "    if not re.match(r'^0x[a-fA-F0-9]{40}$', address):\n",
        "        logger.warning(f\"Invalid address format: {address}\")\n",
        "        return False\n",
        "    return True"
      ],
      "metadata": {
        "id": "-BIwhP0Yrs5F"
      },
      "execution_count": 5,
      "outputs": []
    },
    {
      "cell_type": "code",
      "source": [
        "def fetch_api_data(params, retries=5):\n",
        "    \"\"\"Generic function to fetch data from Etherscan API with retries.\"\"\"\n",
        "    for attempt in range(retries):\n",
        "        try:\n",
        "            response = requests.get(BASE_URL, params=params)\n",
        "            if response.status_code == 200:\n",
        "                data = response.json()\n",
        "                if data[\"status\"] == \"1\":\n",
        "                    return data[\"result\"]\n",
        "                elif \"No transactions found\" in data[\"message\"]:\n",
        "                    return [] # Valid case with no transactions\n",
        "                else:\n",
        "                    logger.warning(f\"API Error for address {params.get('address')}: {data.get('message', 'Unknown Error')}\")\n",
        "                    if \"NOTOK\" in data.get(\"message\", \"\"):\n",
        "                        time.sleep(1 + attempt)  # Exponential backoff\n",
        "                        continue\n",
        "                    return []\n",
        "            else:\n",
        "                logger.error(f\"HTTP Error {response.status_code} for address {params.get('address')}\")\n",
        "                time.sleep(1 + attempt)\n",
        "        except requests.exceptions.RequestException as e:\n",
        "            logger.error(f\"Request exception for {params.get('address')} on attempt {attempt + 1}: {e}\")\n",
        "            time.sleep(1 + attempt)\n",
        "    return []"
      ],
      "metadata": {
        "id": "ps5HRnPtrvDE"
      },
      "execution_count": 6,
      "outputs": []
    },
    {
      "cell_type": "code",
      "source": [
        "def fetch_wallet_transactions(wallet_address, api_key):\n",
        "    \"\"\"Fetches normal transactions for a given wallet address.\"\"\"\n",
        "    logger.info(f\"Fetching NORMAL transactions for {wallet_address}...\")\n",
        "    params = {\n",
        "        \"module\": \"account\", \"action\": \"txlist\", \"address\": wallet_address,\n",
        "        \"startblock\": 0, \"endblock\": 99999999, \"sort\": \"asc\", \"apikey\": api_key\n",
        "    }\n",
        "    return fetch_api_data(params)"
      ],
      "metadata": {
        "id": "5hcUhdIBrw5N"
      },
      "execution_count": 7,
      "outputs": []
    },
    {
      "cell_type": "code",
      "source": [
        "def fetch_internal_wallet_transactions(wallet_address, api_key):\n",
        "    \"\"\"Fetches internal transactions for a given wallet address.\"\"\"\n",
        "    logger.info(f\"Fetching INTERNAL transactions for {wallet_address}...\")\n",
        "    params = {\n",
        "        \"module\": \"account\", \"action\": \"txlistinternal\", \"address\": wallet_address,\n",
        "        \"startblock\": 0, \"endblock\": 99999999, \"sort\": \"asc\", \"apikey\": api_key\n",
        "    }\n",
        "    return fetch_api_data(params)"
      ],
      "metadata": {
        "id": "2xir8gTBrym1"
      },
      "execution_count": 8,
      "outputs": []
    },
    {
      "cell_type": "code",
      "source": [
        "def filter_compound_transactions(transactions, wallet_address):\n",
        "    \"\"\"\n",
        "    Filters a list of normal and internal transactions to keep only those\n",
        "    related to Compound, where the wallet is either the sender or receiver.\n",
        "    \"\"\"\n",
        "    compound_txs = []\n",
        "    wallet_address_lower = wallet_address.lower()\n",
        "\n",
        "    for tx in transactions:\n",
        "        from_addr = tx.get(\"from\", \"\").lower()\n",
        "        to_addr = tx.get(\"to\", \"\").lower()\n",
        "\n",
        "        # Check if the transaction involves a Compound contract and the wallet\n",
        "        is_compound_related = (from_addr in COMPOUND_CONTRACTS or to_addr in COMPOUND_CONTRACTS)\n",
        "        is_wallet_involved = (from_addr == wallet_address_lower or to_addr == wallet_address_lower)\n",
        "\n",
        "        if is_compound_related and is_wallet_involved:\n",
        "            # Handle slight differences between normal and internal tx structures\n",
        "            tx_hash = tx.get(\"hash\") or tx.get(\"transactionHash\")\n",
        "            value = int(tx.get(\"value\", 0)) / 1e18\n",
        "            gas_used = int(tx.get(\"gasUsed\", 0))\n",
        "            is_error = tx.get(\"isError\", \"0\") == \"1\" or tx.get(\"txreceipt_status\", \"1\") == \"0\"\n",
        "\n",
        "            compound_txs.append({\n",
        "                \"tx_hash\": tx_hash,\n",
        "                \"from_address\": from_addr,\n",
        "                \"to_address\": to_addr,\n",
        "                \"value\": value,\n",
        "                \"timestamp\": tx.get(\"timeStamp\"),\n",
        "                \"gas_used\": gas_used,\n",
        "                \"successful\": not is_error\n",
        "            })\n",
        "\n",
        "    # Deduplicate transactions based on tx_hash as internal and normal lists can overlap\n",
        "    unique_txs = {tx['tx_hash']: tx for tx in compound_txs}.values()\n",
        "    return list(unique_txs)\n"
      ],
      "metadata": {
        "id": "-6iRklD7r1qt"
      },
      "execution_count": 9,
      "outputs": []
    },
    {
      "cell_type": "code",
      "source": [
        "def load_wallet_addresses(sheet_url):\n",
        "    \"\"\"Loads wallet addresses from a Google Sheet.\"\"\"\n",
        "    try:\n",
        "        sheet_id = sheet_url.split(\"/d/\")[1].split(\"/\")[0]\n",
        "        csv_url = f\"https://docs.google.com/spreadsheets/d/{sheet_id}/export?format=csv\"\n",
        "        df = pd.read_csv(csv_url)\n",
        "        wallets = df['wallet_id'].tolist()\n",
        "        logger.info(f\"Loaded {len(wallets)} wallet addresses.\")\n",
        "        return wallets\n",
        "    except Exception as e:\n",
        "        logger.error(f\"Error loading wallet addresses: {e}\")\n",
        "        return []\n"
      ],
      "metadata": {
        "id": "jrfrX8hQr4DO"
      },
      "execution_count": 10,
      "outputs": []
    },
    {
      "cell_type": "code",
      "source": [
        "def save_transactions(wallet_transactions, validation_results):\n",
        "    \"\"\"Saves the final transaction data to JSON, CSV, and a validation log.\"\"\"\n",
        "    try:\n",
        "        # Save to JSON\n",
        "        with open(OUTPUT_JSON, 'w') as f:\n",
        "            json.dump(wallet_transactions, f, indent=2)\n",
        "        logger.info(f\"Enhanced transactions saved to {OUTPUT_JSON}\")\n",
        "\n",
        "        # Save to CSV\n",
        "        csv_data = []\n",
        "        for wallet, txs in wallet_transactions.items():\n",
        "            for tx in txs:\n",
        "                tx_data = {\"wallet_id\": wallet}\n",
        "                tx_data.update(tx)\n",
        "                csv_data.append(tx_data)\n",
        "\n",
        "        df = pd.DataFrame(csv_data)\n",
        "        df.to_csv(OUTPUT_CSV, index=False)\n",
        "        logger.info(f\"Enhanced transactions saved to {OUTPUT_CSV}\")\n",
        "\n",
        "        # Save validation log\n",
        "        with open(VALIDATION_LOG, 'w') as f:\n",
        "            for wallet, (is_valid, status) in validation_results.items():\n",
        "                f.write(f\"{wallet}: Valid={is_valid}, Status={status}\\n\")\n",
        "        logger.info(f\"Validation log saved to {VALIDATION_LOG}\")\n",
        "\n",
        "        # Download files in Colab environment\n",
        "        files.download(OUTPUT_JSON)\n",
        "        files.download(OUTPUT_CSV)\n",
        "        files.download(VALIDATION_LOG)\n",
        "    except Exception as e:\n",
        "        logger.error(f\"Error saving transaction files: {e}\")"
      ],
      "metadata": {
        "id": "e0wZgFUZr6vW"
      },
      "execution_count": 11,
      "outputs": []
    },
    {
      "cell_type": "code",
      "source": [
        "def main():\n",
        "    \"\"\"Main execution function.\"\"\"\n",
        "    sheet_url = \"https://docs.google.com/spreadsheets/d/1ZzaeMgNYnxvriYYpe8PE7uMEblTI0GV5GIVUnsP-sBs/edit?usp=sharing\"\n",
        "    wallets = load_wallet_addresses(sheet_url)\n",
        "    if not wallets:\n",
        "        return\n",
        "\n",
        "    wallet_transactions = {}\n",
        "    validation_results = {}\n",
        "\n",
        "    for i, wallet in enumerate(wallets):\n",
        "        logger.info(f\"--- Processing wallet {i + 1}/{len(wallets)}: {wallet} ---\")\n",
        "        if not is_valid_ethereum_address(wallet):\n",
        "            validation_results[wallet] = (False, \"Invalid address format\")\n",
        "            wallet_transactions[wallet] = []\n",
        "            continue\n",
        "\n",
        "        # Fetch both normal and internal transactions\n",
        "        normal_txs = fetch_wallet_transactions(wallet, ETHERSCAN_API_KEY)\n",
        "        internal_txs = fetch_internal_wallet_transactions(wallet, ETHERSCAN_API_KEY)\n",
        "        all_txs = normal_txs + internal_txs\n",
        "\n",
        "        if not all_txs:\n",
        "            validation_results[wallet] = (True, \"No transactions found\")\n",
        "            wallet_transactions[wallet] = []\n",
        "            time.sleep(0.2)  # Respect Etherscan rate limit even if no txs\n",
        "            continue\n",
        "\n",
        "        # Filter for Compound-related transactions\n",
        "        compound_txs = filter_compound_transactions(all_txs, wallet)\n",
        "        wallet_transactions[wallet] = compound_txs\n",
        "\n",
        "        status = f\"Found {len(compound_txs)} Compound-related transactions\"\n",
        "        validation_results[wallet] = (True, status)\n",
        "        logger.info(status)\n",
        "\n",
        "        time.sleep(1)  # Respect Etherscan's 5 requests/second rate limit\n",
        "\n",
        "    save_transactions(wallet_transactions, validation_results)\n",
        "    logger.info(\"--- Completed enhanced data retrieval for all wallets. ---\")\n",
        "\n",
        "if __name__ == \"__main__\":\n",
        "    main()"
      ],
      "metadata": {
        "colab": {
          "base_uri": "https://localhost:8080/",
          "height": 17
        },
        "id": "3UjY2anfr7Yl",
        "outputId": "73bd7663-4644-4a7c-fb20-4d517f98a01b"
      },
      "execution_count": 12,
      "outputs": [
        {
          "output_type": "display_data",
          "data": {
            "text/plain": [
              "<IPython.core.display.Javascript object>"
            ],
            "application/javascript": [
              "\n",
              "    async function download(id, filename, size) {\n",
              "      if (!google.colab.kernel.accessAllowed) {\n",
              "        return;\n",
              "      }\n",
              "      const div = document.createElement('div');\n",
              "      const label = document.createElement('label');\n",
              "      label.textContent = `Downloading \"${filename}\": `;\n",
              "      div.appendChild(label);\n",
              "      const progress = document.createElement('progress');\n",
              "      progress.max = size;\n",
              "      div.appendChild(progress);\n",
              "      document.body.appendChild(div);\n",
              "\n",
              "      const buffers = [];\n",
              "      let downloaded = 0;\n",
              "\n",
              "      const channel = await google.colab.kernel.comms.open(id);\n",
              "      // Send a message to notify the kernel that we're ready.\n",
              "      channel.send({})\n",
              "\n",
              "      for await (const message of channel.messages) {\n",
              "        // Send a message to notify the kernel that we're ready.\n",
              "        channel.send({})\n",
              "        if (message.buffers) {\n",
              "          for (const buffer of message.buffers) {\n",
              "            buffers.push(buffer);\n",
              "            downloaded += buffer.byteLength;\n",
              "            progress.value = downloaded;\n",
              "          }\n",
              "        }\n",
              "      }\n",
              "      const blob = new Blob(buffers, {type: 'application/binary'});\n",
              "      const a = document.createElement('a');\n",
              "      a.href = window.URL.createObjectURL(blob);\n",
              "      a.download = filename;\n",
              "      div.appendChild(a);\n",
              "      a.click();\n",
              "      div.remove();\n",
              "    }\n",
              "  "
            ]
          },
          "metadata": {}
        },
        {
          "output_type": "display_data",
          "data": {
            "text/plain": [
              "<IPython.core.display.Javascript object>"
            ],
            "application/javascript": [
              "download(\"download_3344c4d7-d7b3-4b3a-9360-160c81aeee15\", \"compound_wallet_transactions_enhanced.json\", 258217)"
            ]
          },
          "metadata": {}
        },
        {
          "output_type": "display_data",
          "data": {
            "text/plain": [
              "<IPython.core.display.Javascript object>"
            ],
            "application/javascript": [
              "\n",
              "    async function download(id, filename, size) {\n",
              "      if (!google.colab.kernel.accessAllowed) {\n",
              "        return;\n",
              "      }\n",
              "      const div = document.createElement('div');\n",
              "      const label = document.createElement('label');\n",
              "      label.textContent = `Downloading \"${filename}\": `;\n",
              "      div.appendChild(label);\n",
              "      const progress = document.createElement('progress');\n",
              "      progress.max = size;\n",
              "      div.appendChild(progress);\n",
              "      document.body.appendChild(div);\n",
              "\n",
              "      const buffers = [];\n",
              "      let downloaded = 0;\n",
              "\n",
              "      const channel = await google.colab.kernel.comms.open(id);\n",
              "      // Send a message to notify the kernel that we're ready.\n",
              "      channel.send({})\n",
              "\n",
              "      for await (const message of channel.messages) {\n",
              "        // Send a message to notify the kernel that we're ready.\n",
              "        channel.send({})\n",
              "        if (message.buffers) {\n",
              "          for (const buffer of message.buffers) {\n",
              "            buffers.push(buffer);\n",
              "            downloaded += buffer.byteLength;\n",
              "            progress.value = downloaded;\n",
              "          }\n",
              "        }\n",
              "      }\n",
              "      const blob = new Blob(buffers, {type: 'application/binary'});\n",
              "      const a = document.createElement('a');\n",
              "      a.href = window.URL.createObjectURL(blob);\n",
              "      a.download = filename;\n",
              "      div.appendChild(a);\n",
              "      a.click();\n",
              "      div.remove();\n",
              "    }\n",
              "  "
            ]
          },
          "metadata": {}
        },
        {
          "output_type": "display_data",
          "data": {
            "text/plain": [
              "<IPython.core.display.Javascript object>"
            ],
            "application/javascript": [
              "download(\"download_1fe09874-73d7-4241-806c-df5459920c33\", \"compound_wallet_transactions_enhanced.csv\", 166949)"
            ]
          },
          "metadata": {}
        },
        {
          "output_type": "display_data",
          "data": {
            "text/plain": [
              "<IPython.core.display.Javascript object>"
            ],
            "application/javascript": [
              "\n",
              "    async function download(id, filename, size) {\n",
              "      if (!google.colab.kernel.accessAllowed) {\n",
              "        return;\n",
              "      }\n",
              "      const div = document.createElement('div');\n",
              "      const label = document.createElement('label');\n",
              "      label.textContent = `Downloading \"${filename}\": `;\n",
              "      div.appendChild(label);\n",
              "      const progress = document.createElement('progress');\n",
              "      progress.max = size;\n",
              "      div.appendChild(progress);\n",
              "      document.body.appendChild(div);\n",
              "\n",
              "      const buffers = [];\n",
              "      let downloaded = 0;\n",
              "\n",
              "      const channel = await google.colab.kernel.comms.open(id);\n",
              "      // Send a message to notify the kernel that we're ready.\n",
              "      channel.send({})\n",
              "\n",
              "      for await (const message of channel.messages) {\n",
              "        // Send a message to notify the kernel that we're ready.\n",
              "        channel.send({})\n",
              "        if (message.buffers) {\n",
              "          for (const buffer of message.buffers) {\n",
              "            buffers.push(buffer);\n",
              "            downloaded += buffer.byteLength;\n",
              "            progress.value = downloaded;\n",
              "          }\n",
              "        }\n",
              "      }\n",
              "      const blob = new Blob(buffers, {type: 'application/binary'});\n",
              "      const a = document.createElement('a');\n",
              "      a.href = window.URL.createObjectURL(blob);\n",
              "      a.download = filename;\n",
              "      div.appendChild(a);\n",
              "      a.click();\n",
              "      div.remove();\n",
              "    }\n",
              "  "
            ]
          },
          "metadata": {}
        },
        {
          "output_type": "display_data",
          "data": {
            "text/plain": [
              "<IPython.core.display.Javascript object>"
            ],
            "application/javascript": [
              "download(\"download_e012dc30-d4c9-42d9-8be2-0227b51e9d2f\", \"wallet_validation_log_enhanced.txt\", 10416)"
            ]
          },
          "metadata": {}
        }
      ]
    },
    {
      "cell_type": "markdown",
      "source": [
        "## Feature Engineering"
      ],
      "metadata": {
        "id": "I4FV4hUWsq5l"
      }
    },
    {
      "cell_type": "code",
      "source": [
        "# --- 1. Load the Enhanced Transaction Data ---\n",
        "try:\n",
        "    df = pd.read_csv('compound_wallet_transactions_enhanced.csv')\n",
        "    print(\"Successfully loaded 'compound_wallet_transactions_enhanced.csv'\")\n",
        "except FileNotFoundError:\n",
        "    print(\"Error: 'compound_wallet_transactions_enhanced.csv' not found.\")\n",
        "    print(\"Please make sure the CSV file from the previous step is in the same directory.\")\n",
        "    exit()\n",
        "\n",
        "# Convert timestamp to datetime objects for time-based calculations\n",
        "df['timestamp'] = pd.to_datetime(df['timestamp'], unit='s')\n",
        "df['wallet_id'] = df['wallet_id'].str.lower()\n",
        "df['from_address'] = df['from_address'].str.lower()\n",
        "df['to_address'] = df['to_address'].str.lower()\n"
      ],
      "metadata": {
        "colab": {
          "base_uri": "https://localhost:8080/"
        },
        "id": "C2HJHNcrtmH8",
        "outputId": "bc3a5a98-684b-4a9e-fc36-a708ae119b97"
      },
      "execution_count": 22,
      "outputs": [
        {
          "output_type": "stream",
          "name": "stdout",
          "text": [
            "Successfully loaded 'compound_wallet_transactions_enhanced.csv'\n"
          ]
        }
      ]
    },
    {
      "cell_type": "code",
      "source": [
        "# --- 2. Advanced Feature Engineering ---\n",
        "wallets = df['wallet_id'].unique()\n",
        "features_list = []\n",
        "\n",
        "print(f\"\\nStarting advanced feature engineering for {len(wallets)} wallets...\")\n",
        "\n",
        "for wallet_id in wallets:\n",
        "    wallet_df = df[df['wallet_id'] == wallet_id].copy()\n",
        "\n",
        "    if wallet_df.empty:\n",
        "        features_list.append({\n",
        "            'wallet_id': wallet_id, 'total_transactions': 0, 'successful_tx_rate': 0,\n",
        "            'wallet_age_days': 0, 'transaction_frequency': 0, 'total_eth_volume': 0,\n",
        "            'unique_contracts_interacted': 0, 'is_active_recently': 0,\n",
        "            'supply_count': 0, 'borrow_count': 0, 'repay_count': 0,\n",
        "            'withdraw_count': 0, 'borrow_to_supply_ratio': 0, 'health_factor_proxy': 1\n",
        "        })\n",
        "        continue\n",
        "\n",
        "    # --- Basic Feature Calculations (from previous version) ---\n",
        "    total_transactions = len(wallet_df)\n",
        "    successful_tx_rate = wallet_df['successful'].sum() / total_transactions if total_transactions > 0 else 0\n",
        "    first_tx_date = wallet_df['timestamp'].min()\n",
        "    last_tx_date = wallet_df['timestamp'].max()\n",
        "    wallet_age_days = (pd.Timestamp.now() - first_tx_date).days\n",
        "    transaction_frequency = total_transactions / wallet_age_days if wallet_age_days > 0 else total_transactions\n",
        "    total_eth_volume = wallet_df['value'].sum()\n",
        "    unique_contracts_interacted = wallet_df['to_address'].nunique()\n",
        "    is_active_recently = 1 if last_tx_date > (pd.Timestamp.now() - pd.Timedelta(days=90)) else 0\n",
        "\n",
        "    # --- Advanced Feature Calculations ---\n",
        "\n",
        "    # a. Transaction Type Analysis (Supply, Borrow, Repay, Withdraw)\n",
        "    # We identify transaction types by observing the direction of the ETH/token flow.\n",
        "    # This is a simplified proxy. A more robust method would decode transaction input data.\n",
        "    wallet_df['tx_type'] = 'other'\n",
        "    # Supply: Wallet sends ETH/tokens to a Compound contract\n",
        "    wallet_df.loc[(wallet_df['from_address'] == wallet_id) & (wallet_df['value'] > 0), 'tx_type'] = 'supply'\n",
        "    # Withdraw: Wallet receives ETH/tokens from a Compound contract\n",
        "    wallet_df.loc[(wallet_df['to_address'] == wallet_id) & (wallet_df['value'] > 0), 'tx_type'] = 'withdraw'\n",
        "    # Borrow: Wallet receives funds, but it's an internal tx from a cToken contract (value > 0)\n",
        "    # This is hard to distinguish from withdraw without input data, so we'll count non-ETH value txs as potential borrows/repays\n",
        "    # For this exercise, we'll proxy borrow/repay by looking at non-ETH value transfers to c-tokens\n",
        "    wallet_df.loc[(wallet_df['from_address'] == wallet_id) & (wallet_df['value'] == 0), 'tx_type'] = 'borrow_or_repay'\n",
        "\n",
        "\n",
        "    supply_count = (wallet_df['tx_type'] == 'supply').sum()\n",
        "    withdraw_count = (wallet_df['tx_type'] == 'withdraw').sum()\n",
        "    # Simple split for borrow/repay proxy\n",
        "    borrow_repay_txs = (wallet_df['tx_type'] == 'borrow_or_repay').sum()\n",
        "    borrow_count = np.ceil(borrow_repay_txs / 2)\n",
        "    repay_count = np.floor(borrow_repay_txs / 2)\n",
        "\n",
        "\n",
        "    # b. Borrow-to-Supply Ratio\n",
        "    # A high ratio indicates a user is borrowing heavily against their collateral, which is a key risk factor.\n",
        "    borrow_to_supply_ratio = borrow_count / supply_count if supply_count > 0 else 0\n",
        "\n",
        "    # c. Health Factor Proxy\n",
        "    # We create a proxy for the health of the account. A healthy account repays more than it borrows.\n",
        "    # A value > 1 is good (more repays), < 1 is risky (more borrows).\n",
        "    health_factor_proxy = repay_count / borrow_count if borrow_count > 0 else 1.0 # Default to 1 (healthy)\n",
        "\n",
        "    features_list.append({\n",
        "        'wallet_id': wallet_id,\n",
        "        'total_transactions': total_transactions,\n",
        "        'successful_tx_rate': successful_tx_rate,\n",
        "        'wallet_age_days': wallet_age_days,\n",
        "        'transaction_frequency': transaction_frequency,\n",
        "        'total_eth_volume': total_eth_volume,\n",
        "        'unique_contracts_interacted': unique_contracts_interacted,\n",
        "        'is_active_recently': is_active_recently,\n",
        "        'supply_count': supply_count,\n",
        "        'borrow_count': borrow_count,\n",
        "        'repay_count': repay_count,\n",
        "        'withdraw_count': withdraw_count,\n",
        "        'borrow_to_supply_ratio': borrow_to_supply_ratio,\n",
        "        'health_factor_proxy': health_factor_proxy\n",
        "    })\n",
        "\n",
        "features_df = pd.DataFrame(features_list)\n",
        "print(\"Advanced feature engineering complete.\")"
      ],
      "metadata": {
        "colab": {
          "base_uri": "https://localhost:8080/"
        },
        "id": "7M69DYN6tz81",
        "outputId": "4a5d6c72-abad-42b3-d5bf-ebe28209ae0d"
      },
      "execution_count": 25,
      "outputs": [
        {
          "output_type": "stream",
          "name": "stdout",
          "text": [
            "\n",
            "Starting advanced feature engineering for 99 wallets...\n",
            "Advanced feature engineering complete.\n"
          ]
        }
      ]
    },
    {
      "cell_type": "code",
      "source": [
        "# --- 3. Normalization ---\n",
        "features_df.set_index('wallet_id', inplace=True)\n",
        "scaler = MinMaxScaler()\n",
        "normalized_features = scaler.fit_transform(features_df)\n",
        "normalized_df = pd.DataFrame(normalized_features, index=features_df.index, columns=features_df.columns)\n",
        "print(\"\\nFeatures normalized successfully.\")"
      ],
      "metadata": {
        "colab": {
          "base_uri": "https://localhost:8080/"
        },
        "id": "p67UOAWet6iF",
        "outputId": "723ea6ff-2f8a-45cb-81c8-c5b95a7eed6d"
      },
      "execution_count": 26,
      "outputs": [
        {
          "output_type": "stream",
          "name": "stdout",
          "text": [
            "\n",
            "Features normalized successfully.\n"
          ]
        }
      ]
    },
    {
      "cell_type": "code",
      "source": [
        "# --- 4. Risk Scoring Logic (with new weights) ---\n",
        "# We adjust weights to incorporate the new, more powerful risk indicators.\n",
        "weights = {\n",
        "    # Foundational Features (Lowered weights)\n",
        "    'total_transactions': 0.05,\n",
        "    'successful_tx_rate': 0.15,         # Still very important\n",
        "    'wallet_age_days': 0.10,\n",
        "    'transaction_frequency': 0.05,\n",
        "    'total_eth_volume': 0.025,\n",
        "    'unique_contracts_interacted': 0.10,\n",
        "    'is_active_recently': 0.15,         # Still important\n",
        "\n",
        "    # Advanced DeFi-specific Features (Higher weights)\n",
        "    'supply_count': 0.05,               # Positive indicator of providing liquidity\n",
        "    'borrow_count': -0.05,              # More borrowing slightly increases risk\n",
        "    'repay_count': 0.10,                # Repaying loans is a strong positive signal\n",
        "    'withdraw_count': 0.025,            # Neutral to slightly positive\n",
        "    'borrow_to_supply_ratio': -0.20,    # **High Impact**: High leverage is a major risk factor\n",
        "    'health_factor_proxy': 0.15         # **High Impact**: Shows responsible loan management\n",
        "}\n",
        "\n",
        "# Note: The sum of absolute weights is > 1, which is fine as we re-scale later.\n",
        "# The key is the relative importance.\n",
        "# We now handle positive (good) and negative (bad) indicators separately.\n",
        "\n",
        "positive_score = 0\n",
        "negative_score = 0\n",
        "\n",
        "for feature, weight in weights.items():\n",
        "    if weight > 0:\n",
        "        positive_score += normalized_df[feature] * weight\n",
        "    else:\n",
        "        # For negative weights, a higher feature value should LOWER the score.\n",
        "        # We use (1 - normalized_value) to invert the impact.\n",
        "        # Example: high borrow_ratio (e.g., 0.9) becomes low (0.1), reducing the final score.\n",
        "        negative_score += (1 - normalized_df[feature]) * abs(weight)\n",
        "\n",
        "# Combine positive and negative scores\n",
        "# We normalize the sum of weights to scale the raw score between 0 and 1\n",
        "total_weight = sum(abs(w) for w in weights.values())\n",
        "normalized_df['raw_score'] = (positive_score + negative_score) / total_weight"
      ],
      "metadata": {
        "id": "QQSRr-lbt8OV"
      },
      "execution_count": 27,
      "outputs": []
    },
    {
      "cell_type": "code",
      "source": [
        "# --- 5. Final Score Calculation (0-1000) ---\n",
        "# This part remains the same, but the underlying raw_score is now more sophisticated.\n",
        "min_raw_score = normalized_df['raw_score'].min()\n",
        "max_raw_score = normalized_df['raw_score'].max()\n",
        "\n",
        "if max_raw_score > min_raw_score:\n",
        "    normalized_df['score'] = 1000 * (normalized_df['raw_score'] - min_raw_score) / (max_raw_score - min_raw_score)\n",
        "else:\n",
        "    normalized_df['score'] = 500\n",
        "\n",
        "normalized_df['score'] = normalized_df['score'].astype(int)\n",
        "print(\"Risk scores recalculated with advanced features.\")\n"
      ],
      "metadata": {
        "colab": {
          "base_uri": "https://localhost:8080/"
        },
        "id": "DEHhgwr0t_zt",
        "outputId": "fb58a7fa-8acc-4598-ccde-2341ba9547be"
      },
      "execution_count": 28,
      "outputs": [
        {
          "output_type": "stream",
          "name": "stdout",
          "text": [
            "Risk scores recalculated with advanced features.\n"
          ]
        }
      ]
    },
    {
      "cell_type": "code",
      "source": [
        "# --- 6. Final Output ---\n",
        "final_scores_df = normalized_df[['score']].reset_index()\n",
        "output_filename = 'wallet_risk_scores_advanced.csv'\n",
        "final_scores_df.to_csv(output_filename, index=False)\n",
        "print(f\"\\nFinal advanced risk scores saved to '{output_filename}'\")\n",
        "\n",
        "print(\"\\n--- Top 10 Lowest Risk Wallets (Highest Scores) ---\")\n",
        "print(final_scores_df.sort_values(by='score', ascending=False).head(10))\n",
        "\n",
        "print(\"\\n--- Top 10 Highest Risk Wallets (Lowest Scores) ---\")\n",
        "print(final_scores_df.sort_values(by='score', ascending=True).head(10))\n",
        "\n",
        "files.download(output_filename)"
      ],
      "metadata": {
        "colab": {
          "base_uri": "https://localhost:8080/",
          "height": 525
        },
        "id": "1Mmyf1GAuCld",
        "outputId": "aecd4199-8c2f-491e-839d-378ba8bcb4b4"
      },
      "execution_count": 29,
      "outputs": [
        {
          "output_type": "stream",
          "name": "stdout",
          "text": [
            "\n",
            "Final advanced risk scores saved to 'wallet_risk_scores_advanced.csv'\n",
            "\n",
            "--- Top 10 Lowest Risk Wallets (Highest Scores) ---\n",
            "                                     wallet_id  score\n",
            "26  0x427f2ac5fdf4245e027d767e7c3ac272a1f40a65   1000\n",
            "93  0xf340b9f2098f80b86fbc5ede586c319473aa11f3    933\n",
            "77  0xbd4a00764217c13a246f86db58d74541a0c3972a    928\n",
            "27  0x4814be124d7fe3b240eb46061f7ddfab468fe122    737\n",
            "0   0x0039f22efb07a647557c7c5d17854cfd6d489ef3    671\n",
            "47  0x70d8e4ab175dfe0eab4e9a7f33e0a2d19f44001e    643\n",
            "80  0xcbbd9fe837a14258286bbf2e182cbc4e4518c5a3    622\n",
            "30  0x4d997c89bc659a3e8452038a8101161e7e7e53a7    616\n",
            "72  0xa7f3c74f0255796fd5d3ddcf88db769f7a6bf46a    597\n",
            "13  0x1c1b30ca93ef57452d53885d97a74f61daf2bf4f    587\n",
            "\n",
            "--- Top 10 Highest Risk Wallets (Lowest Scores) ---\n",
            "                                     wallet_id  score\n",
            "10  0x1724e16cb8d0e2aa4d08035bc6b5c56b680a3b22      0\n",
            "62  0x8be38ea2b22b706aef313c2de81f7d179024dd30     22\n",
            "29  0x4c4d05fe859279c91b074429b5fc451182cec745     60\n",
            "86  0xd9d3930ffa343f5a0eec7606d045d0843d3a02b4     62\n",
            "51  0x7b57dbe2f2e4912a29754ff3e412ed9507fd8957    120\n",
            "90  0xebb8629e8a3ec86cf90cb7600264415640834483    161\n",
            "68  0x9a363adc5d382c04d36b09158286328f75672098    183\n",
            "78  0xc179d55f7e00e789915760f7d260a1bf6285278b    255\n",
            "89  0xded1f838ae6aa5fcd0f13481b37ee88e5bdccb3d    255\n",
            "74  0xb271ff7090b39028eb6e711c3f89a3453d5861ee    262\n"
          ]
        },
        {
          "output_type": "display_data",
          "data": {
            "text/plain": [
              "<IPython.core.display.Javascript object>"
            ],
            "application/javascript": [
              "\n",
              "    async function download(id, filename, size) {\n",
              "      if (!google.colab.kernel.accessAllowed) {\n",
              "        return;\n",
              "      }\n",
              "      const div = document.createElement('div');\n",
              "      const label = document.createElement('label');\n",
              "      label.textContent = `Downloading \"${filename}\": `;\n",
              "      div.appendChild(label);\n",
              "      const progress = document.createElement('progress');\n",
              "      progress.max = size;\n",
              "      div.appendChild(progress);\n",
              "      document.body.appendChild(div);\n",
              "\n",
              "      const buffers = [];\n",
              "      let downloaded = 0;\n",
              "\n",
              "      const channel = await google.colab.kernel.comms.open(id);\n",
              "      // Send a message to notify the kernel that we're ready.\n",
              "      channel.send({})\n",
              "\n",
              "      for await (const message of channel.messages) {\n",
              "        // Send a message to notify the kernel that we're ready.\n",
              "        channel.send({})\n",
              "        if (message.buffers) {\n",
              "          for (const buffer of message.buffers) {\n",
              "            buffers.push(buffer);\n",
              "            downloaded += buffer.byteLength;\n",
              "            progress.value = downloaded;\n",
              "          }\n",
              "        }\n",
              "      }\n",
              "      const blob = new Blob(buffers, {type: 'application/binary'});\n",
              "      const a = document.createElement('a');\n",
              "      a.href = window.URL.createObjectURL(blob);\n",
              "      a.download = filename;\n",
              "      div.appendChild(a);\n",
              "      a.click();\n",
              "      div.remove();\n",
              "    }\n",
              "  "
            ]
          },
          "metadata": {}
        },
        {
          "output_type": "display_data",
          "data": {
            "text/plain": [
              "<IPython.core.display.Javascript object>"
            ],
            "application/javascript": [
              "download(\"download_a2447ce0-9732-43d6-a619-3f41738ed71c\", \"wallet_risk_scores_advanced.csv\", 4665)"
            ]
          },
          "metadata": {}
        }
      ]
    },
    {
      "cell_type": "code",
      "source": [
        "# --- 7. Visualization ---\n",
        "print(\"\\n--- Generating Visualizations ---\")\n",
        "\n",
        "# a. Score Distribution Histogram\n",
        "plt.style.use('seaborn-v0_8-whitegrid')\n",
        "plt.figure(figsize=(12, 6))\n",
        "sns.histplot(final_scores_df['score'], bins=20, kde=True, color='skyblue')\n",
        "plt.title('Distribution of Wallet Risk Scores', fontsize=16)\n",
        "plt.xlabel('Risk Score (0 = Highest Risk, 1000 = Lowest Risk)', fontsize=12)\n",
        "plt.ylabel('Number of Wallets', fontsize=12)\n",
        "plt.grid(True)\n",
        "plt.show()\n",
        "\n",
        "# b. Feature Importance Bar Chart\n",
        "feature_importance = pd.Series({k: abs(v) for k, v in weights.items()}).sort_values(ascending=False)\n",
        "\n",
        "plt.figure(figsize=(12, 8))\n",
        "sns.barplot(x=feature_importance.values, y=feature_importance.index, palette='viridis')\n",
        "plt.title('Feature Importance in Risk Scoring Model', fontsize=16)\n",
        "plt.xlabel('Absolute Weight (Impact)', fontsize=12)\n",
        "plt.ylabel('Feature', fontsize=12)\n",
        "plt.show()\n"
      ],
      "metadata": {
        "colab": {
          "base_uri": "https://localhost:8080/",
          "height": 1000
        },
        "id": "gl-sOjCRuF0n",
        "outputId": "f41d6a7b-ac4b-4f90-943f-72386deb5dba"
      },
      "execution_count": 30,
      "outputs": [
        {
          "output_type": "stream",
          "name": "stdout",
          "text": [
            "\n",
            "--- Generating Visualizations ---\n"
          ]
        },
        {
          "output_type": "display_data",
          "data": {
            "text/plain": [
              "<Figure size 1200x600 with 1 Axes>"
            ],
            "image/png": "[encoded data removed]"
          },
          "metadata": {}
        },
        {
          "output_type": "stream",
          "name": "stderr",
          "text": [
            "/tmp/ipython-input-30-3519739986.py:18: FutureWarning: \n",
            "\n",
            "Passing `palette` without assigning `hue` is deprecated and will be removed in v0.14.0. Assign the `y` variable to `hue` and set `legend=False` for the same effect.\n",
            "\n",
            "  sns.barplot(x=feature_importance.values, y=feature_importance.index, palette='viridis')\n"
          ]
        },
        {
          "output_type": "display_data",
          "data": {
            "text/plain": [
              "<Figure size 1200x800 with 1 Axes>"
            ],
            "image/png": "[encoded data removed]"
          },
          "metadata": {}
        }
      ]
    }
  ]
}